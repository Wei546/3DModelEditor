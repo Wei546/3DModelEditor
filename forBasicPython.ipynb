{
 "cells": [
  {
   "cell_type": "code",
   "execution_count": null,
   "metadata": {},
   "outputs": [],
   "source": [
    "a_list =[]\n",
    "for i in range(5):\n",
    "    a_list.append(int(input()))\n",
    "print(a_list)"
   ]
  },
  {
   "cell_type": "code",
   "execution_count": null,
   "metadata": {},
   "outputs": [],
   "source": []
  },
  {
   "cell_type": "code",
   "execution_count": 2,
   "metadata": {},
   "outputs": [
    {
     "name": "stdout",
     "output_type": "stream",
     "text": [
      "merge_0101\n"
     ]
    }
   ],
   "source": [
    "file_path = \"resources/test_stitch/merge_0101.stl\"\n",
    "\n",
    "original_file_name= file_path.split(\"/\")[-1]\n",
    "original_file_name = original_file_name.split(\".\")[0]\n",
    "\n",
    "print(original_file_name)"
   ]
  },
  {
   "cell_type": "code",
   "execution_count": 1,
   "metadata": {},
   "outputs": [
    {
     "name": "stdout",
     "output_type": "stream",
     "text": [
      "平移矩陣:\n",
      "[[ 1.          0.          0.         -6.98707515]\n",
      " [ 0.          1.          0.         -0.63889001]\n",
      " [ 0.          0.          1.          1.01351335]\n",
      " [ 0.          0.          0.          1.        ]]\n"
     ]
    }
   ],
   "source": [
    "import numpy as np\n",
    "\n",
    "# Translation values\n",
    "tx, ty, tz = -6.98707515, -0.63889001, 1.01351335\n",
    "\n",
    "# Translation matrix\n",
    "T = np.array([\n",
    "    [1, 0, 0, tx],\n",
    "    [0, 1, 0, ty],\n",
    "    [0, 0, 1, tz],\n",
    "    [0, 0, 0, 1]\n",
    "])\n",
    "\n",
    "print(\"平移矩陣:\")\n",
    "print(T)"
   ]
  }
 ],
 "metadata": {
  "kernelspec": {
   "display_name": "base",
   "language": "python",
   "name": "python3"
  },
  "language_info": {
   "codemirror_mode": {
    "name": "ipython",
    "version": 3
   },
   "file_extension": ".py",
   "mimetype": "text/x-python",
   "name": "python",
   "nbconvert_exporter": "python",
   "pygments_lexer": "ipython3",
   "version": "3.11.7"
  }
 },
 "nbformat": 4,
 "nbformat_minor": 2
}
